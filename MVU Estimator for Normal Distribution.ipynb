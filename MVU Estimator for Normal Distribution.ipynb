{
 "cells": [
  {
   "cell_type": "code",
   "execution_count": 128,
   "metadata": {},
   "outputs": [],
   "source": [
    "import numpy as np\n",
    "import scipy.stats as S"
   ]
  },
  {
   "cell_type": "markdown",
   "metadata": {},
   "source": [
    "We are going to withdraw 1000 samples from a gaussian distributed population having a mean of 67.5Kgs and \n",
    "standard deviation of 5 Kgs. "
   ]
  },
  {
   "cell_type": "code",
   "execution_count": 129,
   "metadata": {},
   "outputs": [],
   "source": [
    "Samples = np.random.normal(loc=67.5,scale=5,size=(1000,3))"
   ]
  },
  {
   "cell_type": "code",
   "execution_count": 130,
   "metadata": {},
   "outputs": [
    {
     "data": {
      "text/plain": [
       "(1000, 3)"
      ]
     },
     "execution_count": 130,
     "metadata": {},
     "output_type": "execute_result"
    }
   ],
   "source": [
    "Samples.shape"
   ]
  },
  {
   "cell_type": "markdown",
   "metadata": {},
   "source": [
    "We are going to compute sample means for all the samples. But why we are computing sample means because we \n",
    "know that our population is gaussian distributed and therefore the MVU Estimator of mean of Gaussian distributed population is sample mean."
   ]
  },
  {
   "cell_type": "code",
   "execution_count": 131,
   "metadata": {},
   "outputs": [],
   "source": [
    "samplemeans = np.mean(Samples,axis=1)"
   ]
  },
  {
   "cell_type": "code",
   "execution_count": 132,
   "metadata": {},
   "outputs": [
    {
     "data": {
      "text/plain": [
       "array([67.34667606, 66.96633009, 63.45590227, 61.66027749, 66.98438638,\n",
       "       65.09221969, 64.2561481 , 66.21447702, 70.18153396, 68.59642455,\n",
       "       66.65440466, 63.52669574, 67.19706836, 63.98435001, 69.2735857 ,\n",
       "       67.79412663, 67.95965708, 62.80939425, 69.56354872, 70.52077244,\n",
       "       67.8744481 , 67.56455938, 69.27037981, 63.65821804, 65.65489346,\n",
       "       74.24334282, 66.36349304, 69.64326231, 59.90927207, 69.63791997,\n",
       "       71.66823065, 68.0685294 , 63.57751875, 64.47515017, 70.54834144,\n",
       "       67.30036068, 69.28784026, 68.6902616 , 70.547962  , 71.79178053,\n",
       "       63.84622726, 70.75545898, 65.34902663, 68.11212563, 68.25014242,\n",
       "       64.02812959, 61.93014541, 63.29965102, 62.55319623, 68.25286897,\n",
       "       65.93288993, 66.87600564, 66.2084594 , 70.94862725, 64.02345749,\n",
       "       65.60899042, 68.30536211, 67.08175484, 65.46577224, 66.24285057,\n",
       "       73.24808651, 74.82744947, 67.63881418, 72.39878974, 63.5920248 ,\n",
       "       70.46299268, 69.46640822, 65.33746689, 62.91849638, 67.05675428,\n",
       "       68.38197136, 66.75754634, 68.7737417 , 67.45195537, 68.51362553,\n",
       "       65.71070083, 65.00597233, 67.75475167, 67.53124252, 65.83670601,\n",
       "       70.13232325, 66.51508059, 69.72504896, 69.03577003, 65.69802085,\n",
       "       70.98671039, 67.53749586, 67.41881331, 66.75254516, 67.13805753,\n",
       "       69.75998461, 78.58356078, 71.00981514, 69.68691539, 64.78422931,\n",
       "       60.09326383, 70.2304279 , 69.81464918, 66.88101085, 67.8780536 ,\n",
       "       68.6810295 , 68.7013898 , 61.25273675, 66.24230883, 66.32122773,\n",
       "       65.9661245 , 61.83005162, 68.28739048, 64.67355252, 69.87750312,\n",
       "       68.49633721, 65.96366228, 70.63396091, 67.16496927, 65.18206902,\n",
       "       67.59534759, 67.43488156, 63.23816764, 69.28182159, 71.32797931,\n",
       "       70.54635259, 66.48380864, 69.20899674, 70.45150926, 68.04914909,\n",
       "       62.18446441, 68.12319951, 68.89721164, 69.21949632, 67.90689417,\n",
       "       64.9540081 , 66.6520983 , 64.72311435, 64.69324006, 72.40013235,\n",
       "       68.14141511, 66.91731762, 64.01026617, 65.30079455, 66.29446304,\n",
       "       70.99848716, 67.28450011, 70.27982581, 67.84097135, 69.02487862,\n",
       "       66.86280025, 69.66051213, 67.12132314, 67.17176688, 61.33712831,\n",
       "       64.979096  , 66.03603078, 68.90868137, 67.31279402, 65.51435456,\n",
       "       68.80844924, 70.92742876, 65.78176272, 65.0202738 , 67.06810889,\n",
       "       68.64506833, 67.64210542, 70.38508731, 68.67966862, 64.92620643,\n",
       "       67.45676788, 69.55970919, 64.77447614, 64.96708769, 70.52720436,\n",
       "       66.94170787, 70.5046677 , 70.5769    , 69.35045568, 69.14180757,\n",
       "       64.84216296, 64.90976051, 62.97096313, 61.54167437, 71.60320091,\n",
       "       69.24766822, 61.88103731, 63.94656099, 64.97155036, 63.64963784,\n",
       "       68.98074382, 73.39070144, 68.18412135, 68.99701884, 71.15974372,\n",
       "       68.6785928 , 72.47111539, 67.38617696, 66.52979448, 66.01658157,\n",
       "       70.63785949, 70.35972288, 67.69473658, 68.40502525, 66.35861695,\n",
       "       70.10786463, 64.0313098 , 68.88757973, 69.58942448, 69.73240538,\n",
       "       68.67516389, 67.68743801, 68.57192645, 62.09480281, 69.62657767,\n",
       "       66.4343965 , 66.65958268, 71.18885551, 67.62108054, 70.24939191,\n",
       "       65.22068975, 67.55518782, 68.55764868, 67.69149093, 65.14362824,\n",
       "       67.91654578, 67.59822174, 69.00944708, 68.08310233, 62.55667598,\n",
       "       67.01763602, 67.95677652, 64.84100639, 71.47735702, 63.64400337,\n",
       "       65.82730291, 63.44872701, 67.24337565, 63.45123014, 62.43072991,\n",
       "       72.43863204, 64.83470954, 68.97280006, 63.78932416, 64.38674479,\n",
       "       65.88296862, 63.62834486, 69.89035411, 65.45954336, 69.9410183 ,\n",
       "       65.26165142, 68.43735602, 70.53446018, 67.52556285, 68.90352946,\n",
       "       69.93575046, 66.48487092, 66.37595332, 63.84411851, 70.3184148 ,\n",
       "       62.48508806, 67.17460681, 65.06795371, 66.62058683, 70.23311497,\n",
       "       67.64859907, 67.72329775, 64.82803533, 67.09592118, 66.05313271,\n",
       "       68.71552255, 61.14477136, 72.45995516, 66.37635402, 61.46993606,\n",
       "       62.82320365, 71.29090602, 65.21741064, 68.42110521, 62.4250083 ,\n",
       "       69.79670543, 68.05934333, 68.19784268, 71.29061815, 62.99397682,\n",
       "       69.78832299, 71.3065521 , 65.41633356, 68.57461779, 69.33644329,\n",
       "       73.05469149, 66.50354207, 68.98888046, 68.51374687, 62.86774981,\n",
       "       60.44754865, 61.40279025, 70.35613387, 69.50077265, 71.92899404,\n",
       "       68.049256  , 64.85768757, 68.75690498, 65.129545  , 68.36971494,\n",
       "       68.07805727, 63.86641376, 68.7001336 , 67.08794171, 65.31132414,\n",
       "       67.04545696, 67.77948868, 67.14770054, 68.0875526 , 68.91814848,\n",
       "       68.98820602, 68.33114947, 66.52958786, 67.00308844, 69.10657641,\n",
       "       69.89043897, 67.43337717, 69.12154898, 63.01145208, 71.49830936,\n",
       "       68.97083389, 68.93377574, 66.56776641, 67.97447385, 63.04989827,\n",
       "       67.78707903, 67.83822878, 67.03642997, 68.44258139, 63.73344818,\n",
       "       65.94079543, 65.8946402 , 64.27589866, 69.38561663, 63.36980532,\n",
       "       70.54416154, 65.62780028, 68.1713625 , 70.3763836 , 71.33948794,\n",
       "       66.72600752, 68.66276461, 69.86945693, 65.69652825, 62.80200522,\n",
       "       67.87990106, 74.07420914, 66.77406028, 70.25022953, 66.60200886,\n",
       "       67.64832695, 64.91060212, 64.10685476, 70.95776159, 68.06263417,\n",
       "       67.50142054, 71.72923914, 67.2080453 , 64.59495898, 63.7771522 ,\n",
       "       71.21872728, 67.45569744, 71.24228222, 67.86434459, 65.3063118 ,\n",
       "       62.23311892, 62.41715731, 65.42611066, 66.05913358, 70.50585803,\n",
       "       67.61187921, 65.9085032 , 68.0458331 , 62.17859974, 74.71436983,\n",
       "       70.93104439, 68.09727377, 65.40439641, 64.64585162, 66.99293285,\n",
       "       68.87045739, 70.0323803 , 65.7719269 , 68.98463672, 70.86976803,\n",
       "       65.79633123, 67.89554293, 62.43302664, 62.38682312, 64.85918543,\n",
       "       67.94228462, 62.1055127 , 68.89243883, 65.35464577, 70.67074546,\n",
       "       70.13937652, 65.82083519, 73.43371248, 69.48385502, 66.54332959,\n",
       "       67.40936236, 63.80411492, 70.04317726, 70.67713506, 66.54628118,\n",
       "       68.1301451 , 66.86438721, 69.93613121, 69.66081366, 73.79758461,\n",
       "       66.719716  , 63.73497971, 68.85227304, 69.05489623, 67.06105616,\n",
       "       62.89367874, 66.92520793, 69.98482139, 69.1756194 , 64.98584791,\n",
       "       66.65570487, 68.95772103, 69.72269084, 67.15074503, 71.77699127,\n",
       "       65.32770454, 62.99760661, 64.66136296, 66.70373942, 68.92768277,\n",
       "       68.89516089, 69.96883663, 62.51886227, 71.45609555, 68.07881395,\n",
       "       69.3744169 , 70.72255037, 61.4809764 , 59.87042356, 68.73811895,\n",
       "       68.24300904, 68.54790241, 67.70471859, 65.899864  , 66.59547485,\n",
       "       65.09658038, 66.04463947, 69.50021942, 72.03086466, 69.53625186,\n",
       "       67.48363747, 66.18377304, 62.94145529, 68.7022697 , 68.00472537,\n",
       "       68.98556226, 69.52625244, 65.96573444, 67.41364507, 67.63459638,\n",
       "       73.28733668, 63.34962178, 70.48103001, 71.91494096, 66.43287427,\n",
       "       69.49738058, 71.31245923, 61.94260603, 71.235783  , 64.11306796,\n",
       "       67.06911371, 65.45849299, 64.49237498, 71.83303733, 64.58735321,\n",
       "       65.32708254, 67.60898443, 68.82623313, 69.70011306, 66.58664751,\n",
       "       69.62224562, 68.65504348, 65.54981153, 66.80333528, 72.11231155,\n",
       "       68.36546173, 68.37048797, 66.67750992, 64.29837862, 71.78734074,\n",
       "       62.07260555, 66.31307486, 68.69544197, 67.50965293, 70.09241394,\n",
       "       69.7059962 , 65.56791386, 63.48584784, 72.13347242, 72.64922701,\n",
       "       65.64485546, 68.40432834, 66.8091264 , 67.61176564, 66.57419265,\n",
       "       62.2383685 , 67.14939553, 65.18105888, 72.3080949 , 64.12070765,\n",
       "       72.01962983, 63.49542053, 65.64541793, 68.81413248, 71.37466262,\n",
       "       64.89297091, 67.01434057, 66.06854791, 68.5986426 , 69.53669132,\n",
       "       70.277338  , 64.9747338 , 70.21416878, 67.68936614, 63.94345033,\n",
       "       70.13133951, 65.55450407, 70.35279942, 66.6189735 , 67.50013532,\n",
       "       70.62555219, 64.61551553, 72.24101375, 69.33665071, 69.48092116,\n",
       "       67.63402508, 66.88070808, 73.45386997, 67.6656796 , 65.36144233,\n",
       "       66.17121918, 71.83387934, 62.69666998, 66.04906411, 70.13649815,\n",
       "       64.80164528, 68.14497289, 66.21678474, 64.48426634, 69.3183759 ,\n",
       "       63.58872946, 69.391579  , 66.8568623 , 66.60156623, 70.39114489,\n",
       "       64.48794072, 67.47329167, 67.28924078, 71.0663267 , 70.47325078,\n",
       "       68.32996221, 71.22553985, 66.28730456, 62.96426131, 66.61715532,\n",
       "       67.56853423, 67.8442042 , 66.00984324, 74.0492583 , 71.42745287,\n",
       "       64.83205382, 63.28107376, 70.89582182, 64.81114966, 66.23960806,\n",
       "       70.95554659, 70.12422638, 68.30209651, 62.21531326, 68.88153294,\n",
       "       69.64536516, 70.46315559, 64.96904052, 71.31437174, 66.99808292,\n",
       "       68.31552387, 68.5086873 , 63.56333696, 68.22241641, 67.11556197,\n",
       "       70.73271049, 72.71490886, 67.52742557, 66.75627201, 71.9031485 ,\n",
       "       69.1996233 , 67.62160346, 69.19352168, 67.35508356, 66.74942653,\n",
       "       68.00160966, 72.11831503, 65.27067029, 64.94078682, 70.22076581,\n",
       "       67.00245194, 66.82995737, 68.70864913, 69.57443422, 72.41006596,\n",
       "       69.04956463, 70.59568243, 71.19574395, 72.46372142, 69.73071754,\n",
       "       64.46252179, 68.95318683, 64.63485796, 71.36901654, 66.42574993,\n",
       "       73.21146827, 67.01404415, 64.68177632, 71.32522982, 68.61626495,\n",
       "       62.82191967, 67.40374482, 70.45598695, 66.14123267, 64.69939239,\n",
       "       71.04920609, 66.15751972, 65.96758115, 67.66309453, 67.00289268,\n",
       "       70.69665644, 67.59253472, 71.60563223, 67.10580178, 68.63728518,\n",
       "       64.73689756, 70.66665405, 67.22639648, 65.23023736, 68.70981067,\n",
       "       66.63681255, 65.05675606, 70.28212149, 66.91316655, 66.3097071 ,\n",
       "       58.14053263, 69.14452254, 70.59777802, 73.65599768, 68.51002248,\n",
       "       62.8140415 , 64.85026565, 67.18809333, 69.15307874, 65.09379364,\n",
       "       64.87432118, 72.02705574, 63.78509345, 71.36963616, 67.27172505,\n",
       "       70.84343612, 70.34465122, 65.87605893, 72.2373485 , 69.01630826,\n",
       "       69.38262827, 70.04395107, 64.76860053, 71.08498599, 59.56565106,\n",
       "       64.97307896, 67.89319976, 66.92924459, 67.40921788, 72.1459868 ,\n",
       "       61.73601745, 62.58544866, 64.09272493, 63.85345146, 65.82981831,\n",
       "       70.31853609, 71.84100811, 73.82848681, 71.90662023, 73.62931526,\n",
       "       65.55170158, 67.38458609, 62.86386005, 70.04425533, 62.15999798,\n",
       "       63.48221264, 65.16518533, 70.56391764, 71.05836504, 63.19513745,\n",
       "       68.63368765, 69.60484023, 63.58902658, 67.25914764, 69.85402194,\n",
       "       68.24013842, 67.61326189, 64.99775522, 67.19164716, 62.82913258,\n",
       "       68.72614037, 68.18113669, 67.31008395, 64.54368307, 67.70530233,\n",
       "       65.74781862, 66.78522919, 70.0160292 , 66.63716203, 72.83797481,\n",
       "       70.57608467, 65.69325269, 72.86846266, 63.59750687, 71.58734852,\n",
       "       66.8946178 , 60.78338237, 68.99094394, 64.88504982, 67.77769244,\n",
       "       67.5537941 , 65.23474696, 62.30251613, 65.63077612, 67.49288027,\n",
       "       70.83351894, 68.79415489, 61.24803396, 62.64726705, 73.09850074,\n",
       "       66.90011683, 72.06196804, 66.41651616, 68.32850238, 67.15039861,\n",
       "       65.69716807, 71.79860193, 70.61395514, 65.33368648, 64.8703986 ,\n",
       "       66.88746279, 66.40655178, 63.19793847, 64.83445858, 66.01217426,\n",
       "       62.38202031, 67.36452785, 71.73061031, 65.89744694, 63.23449704,\n",
       "       67.6049841 , 70.81342236, 65.77278858, 72.53034818, 66.13998834,\n",
       "       65.21139588, 66.23920955, 63.97345715, 70.04607373, 69.5554843 ,\n",
       "       66.25779491, 66.20625134, 69.25881111, 68.82074355, 65.13893829,\n",
       "       71.93499589, 64.93970303, 72.60950092, 62.84519813, 66.84702745,\n",
       "       65.63942042, 68.24131315, 68.91927103, 65.34123148, 65.38765852,\n",
       "       67.52844506, 67.61974058, 63.54656016, 68.49341822, 65.79193064,\n",
       "       68.33695788, 65.53916537, 69.32503685, 67.19770458, 66.23222682,\n",
       "       67.95612886, 69.04792859, 68.15156897, 66.31156435, 66.46937794,\n",
       "       69.55097408, 66.08387976, 72.43560172, 65.82797971, 63.43059511,\n",
       "       70.24402248, 63.3468364 , 65.64037411, 67.29041151, 70.59128982,\n",
       "       66.8144056 , 72.64186576, 66.44647837, 66.71971673, 74.27053807,\n",
       "       68.5222385 , 68.53943501, 69.13787751, 68.66259997, 63.3330668 ,\n",
       "       65.56415976, 66.47842441, 65.13798047, 70.39962283, 71.43524654,\n",
       "       64.41508552, 70.60769088, 66.80435551, 70.27011128, 72.78652722,\n",
       "       65.33106429, 71.37707724, 64.20153895, 72.35466062, 64.2589338 ,\n",
       "       65.3463499 , 71.85663741, 70.30954852, 68.96109459, 66.99853722,\n",
       "       64.59047327, 60.54866905, 72.96574874, 66.19063297, 66.16875833,\n",
       "       71.47591148, 65.93082273, 64.03536943, 64.70331029, 68.96597863,\n",
       "       73.32241899, 68.065052  , 70.00452211, 69.52314932, 70.25490828,\n",
       "       65.715119  , 70.02913459, 62.03946419, 68.70325555, 67.40287241,\n",
       "       71.77251782, 71.48111808, 64.97822314, 68.38981579, 67.6452053 ,\n",
       "       70.8690492 , 70.36108447, 70.82778694, 67.74467266, 67.27238125,\n",
       "       69.25021047, 65.94081644, 70.24922966, 65.61983803, 67.22366747,\n",
       "       67.59635698, 62.54794752, 70.74328108, 65.66122102, 68.85592321,\n",
       "       69.5329245 , 69.93073158, 64.24941067, 66.84134422, 69.05662031,\n",
       "       69.40123464, 65.04894001, 69.07176129, 66.34360166, 58.52747094,\n",
       "       70.59342823, 65.96297182, 69.55037078, 65.77437892, 67.55716081,\n",
       "       72.52900064, 64.89936299, 67.0824231 , 64.49788094, 71.42801257,\n",
       "       71.16482334, 65.76884004, 66.10810119, 69.02254381, 66.61593163,\n",
       "       74.26677587, 62.42704649, 67.65069974, 65.70813539, 68.80306188,\n",
       "       68.56003647, 65.8051219 , 65.32786017, 73.37822241, 72.11718133,\n",
       "       67.78865796, 68.99213452, 64.77758212, 69.62129099, 65.9152043 ,\n",
       "       65.0739852 , 67.25644686, 68.08506959, 66.93713788, 68.14815598,\n",
       "       69.1539647 , 72.82843469, 69.93051346, 64.53025651, 73.00851725,\n",
       "       67.23281141, 72.69099146, 68.96244448, 64.63920838, 66.33899029,\n",
       "       75.0152916 , 69.65137138, 68.46798535, 67.7193332 , 72.06578849,\n",
       "       68.30940037, 70.23293567, 68.97212652, 69.85698728, 68.47030805,\n",
       "       69.2149781 , 68.16196051, 66.1207441 , 66.57105274, 71.89138533,\n",
       "       67.18656913, 63.81332879, 65.74680112, 70.26113424, 66.99075005,\n",
       "       61.74001751, 60.89445701, 67.2580587 , 66.88840295, 64.56106146,\n",
       "       65.19431205, 66.80417192, 70.10449403, 71.32487367, 62.93871151,\n",
       "       70.32212773, 68.23574814, 70.00787008, 69.28753921, 65.27277633,\n",
       "       67.49415886, 72.07892966, 66.39503325, 67.24623277, 66.41781797,\n",
       "       69.02634139, 65.83592467, 66.09975876, 70.24099608, 68.34757643,\n",
       "       69.65983797, 64.88333474, 73.60621798, 63.68105865, 67.51691883,\n",
       "       68.42274367, 68.36268153, 66.4675733 , 68.3484507 , 71.93423462,\n",
       "       66.43178591, 63.50255316, 63.6684476 , 66.16975879, 72.67755511,\n",
       "       67.59303922, 66.93759049, 66.4352205 , 69.04160245, 69.4457679 ])"
      ]
     },
     "execution_count": 132,
     "metadata": {},
     "output_type": "execute_result"
    }
   ],
   "source": [
    "samplemeans"
   ]
  },
  {
   "cell_type": "code",
   "execution_count": 133,
   "metadata": {},
   "outputs": [],
   "source": [
    "Bins = 8\n",
    "MinValue = 67.5 - (4*5)\n",
    "MaxValue = 67.5 + (4*5)\n",
    "Binwidth = (MaxValue-MinValue)/Bins"
   ]
  },
  {
   "cell_type": "code",
   "execution_count": 134,
   "metadata": {},
   "outputs": [
    {
     "data": {
      "text/plain": [
       "5.0"
      ]
     },
     "execution_count": 134,
     "metadata": {},
     "output_type": "execute_result"
    }
   ],
   "source": [
    "Binwidth"
   ]
  },
  {
   "cell_type": "code",
   "execution_count": 135,
   "metadata": {},
   "outputs": [],
   "source": [
    "Frequency = [0]*Bins#repeats the particular value bin time"
   ]
  },
  {
   "cell_type": "code",
   "execution_count": 136,
   "metadata": {},
   "outputs": [
    {
     "data": {
      "text/plain": [
       "[0, 0, 0, 0, 0, 0, 0, 0]"
      ]
     },
     "execution_count": 136,
     "metadata": {},
     "output_type": "execute_result"
    }
   ],
   "source": [
    "Frequency"
   ]
  },
  {
   "cell_type": "code",
   "execution_count": 137,
   "metadata": {},
   "outputs": [],
   "source": [
    "Binmarkings = np.arange(MinValue,MaxValue,Binwidth)"
   ]
  },
  {
   "cell_type": "code",
   "execution_count": 138,
   "metadata": {},
   "outputs": [],
   "source": [
    "Binmarkings = list(Binmarkings)"
   ]
  },
  {
   "cell_type": "code",
   "execution_count": 139,
   "metadata": {},
   "outputs": [
    {
     "data": {
      "text/plain": [
       "array([67.34667606, 66.96633009, 63.45590227, 61.66027749, 66.98438638,\n",
       "       65.09221969, 64.2561481 , 66.21447702, 70.18153396, 68.59642455,\n",
       "       66.65440466, 63.52669574, 67.19706836, 63.98435001, 69.2735857 ])"
      ]
     },
     "execution_count": 139,
     "metadata": {},
     "output_type": "execute_result"
    }
   ],
   "source": [
    "samplemeans[0:15]"
   ]
  },
  {
   "cell_type": "code",
   "execution_count": 140,
   "metadata": {},
   "outputs": [],
   "source": [
    "for i in range(0,len(Frequency)-1):\n",
    "    boolmask = ((samplemeans >= Binmarkings[i]) & (samplemeans <= Binmarkings[i+1]))\n",
    "    Frequency[i] =np.count_nonzero(samplemeans[boolmask])"
   ]
  },
  {
   "cell_type": "code",
   "execution_count": 141,
   "metadata": {},
   "outputs": [
    {
     "name": "stdout",
     "output_type": "stream",
     "text": [
      "[0, 0, 44, 444, 474, 37, 1, 0]\n"
     ]
    }
   ],
   "source": [
    "print(Frequency)"
   ]
  },
  {
   "cell_type": "code",
   "execution_count": 142,
   "metadata": {},
   "outputs": [],
   "source": [
    "Frequency[7] = np.count_nonzero(samplemeans[samplemeans >= Binmarkings[7]])\n",
    "#print(531+467+1+1)"
   ]
  },
  {
   "cell_type": "code",
   "execution_count": 143,
   "metadata": {},
   "outputs": [
    {
     "data": {
      "text/plain": [
       "[0, 0, 44, 444, 474, 37, 1, 0]"
      ]
     },
     "execution_count": 143,
     "metadata": {},
     "output_type": "execute_result"
    }
   ],
   "source": [
    "Frequency"
   ]
  },
  {
   "cell_type": "code",
   "execution_count": 144,
   "metadata": {},
   "outputs": [
    {
     "data": {
      "text/plain": [
       "<BarContainer object of 8 artists>"
      ]
     },
     "execution_count": 144,
     "metadata": {},
     "output_type": "execute_result"
    },
    {
     "data": {
      "image/png": "[encoded data removed]",
      "text/plain": [
       "<Figure size 432x288 with 1 Axes>"
      ]
     },
     "metadata": {
      "needs_background": "light"
     },
     "output_type": "display_data"
    }
   ],
   "source": [
    "import matplotlib.pyplot as plt\n",
    "plt.bar(Binmarkings,Frequency)"
   ]
  },
  {
   "cell_type": "code",
   "execution_count": 145,
   "metadata": {},
   "outputs": [],
   "source": [
    "samplediststd = 5/np.sqrt(3)"
   ]
  },
  {
   "cell_type": "code",
   "execution_count": 146,
   "metadata": {},
   "outputs": [
    {
     "data": {
      "text/plain": [
       "2.886751345948129"
      ]
     },
     "execution_count": 146,
     "metadata": {},
     "output_type": "execute_result"
    }
   ],
   "source": [
    "samplediststd"
   ]
  },
  {
   "cell_type": "code",
   "execution_count": 147,
   "metadata": {},
   "outputs": [],
   "source": [
    "#mean using expected value\n",
    "meanOfSampleMean = np.mean(samplemeans)  "
   ]
  },
  {
   "cell_type": "code",
   "execution_count": 148,
   "metadata": {},
   "outputs": [
    {
     "data": {
      "text/plain": [
       "67.55796069849848"
      ]
     },
     "execution_count": 148,
     "metadata": {},
     "output_type": "execute_result"
    }
   ],
   "source": [
    "meanOfSampleMean"
   ]
  },
  {
   "cell_type": "code",
   "execution_count": 151,
   "metadata": {},
   "outputs": [],
   "source": [
    "#finding the std. deviation from meanOfSampleMean\n",
    "differences = samplemeans - meanOfSampleMean\n",
    "square = differences**2"
   ]
  },
  {
   "cell_type": "code",
   "execution_count": 152,
   "metadata": {},
   "outputs": [],
   "source": [
    "var = np.mean(square)"
   ]
  },
  {
   "cell_type": "code",
   "execution_count": 153,
   "metadata": {},
   "outputs": [],
   "source": [
    "samplindstd = np.sqrt(var)"
   ]
  },
  {
   "cell_type": "code",
   "execution_count": 154,
   "metadata": {},
   "outputs": [
    {
     "data": {
      "text/plain": [
       "2.8838177057084446"
      ]
     },
     "execution_count": 154,
     "metadata": {},
     "output_type": "execute_result"
    }
   ],
   "source": [
    "samplindstd"
   ]
  },
  {
   "cell_type": "code",
   "execution_count": 157,
   "metadata": {},
   "outputs": [
    {
     "name": "stdout",
     "output_type": "stream",
     "text": [
      "61.91316069849847\n"
     ]
    }
   ],
   "source": [
    "confidenceIntervalMinValue = meanOfSampleMean - 1.96*2.88\n",
    "print(confidenceIntervalMinValue)"
   ]
  },
  {
   "cell_type": "code",
   "execution_count": 186,
   "metadata": {},
   "outputs": [
    {
     "name": "stdout",
     "output_type": "stream",
     "text": [
      "73.20276069849848\n"
     ]
    }
   ],
   "source": [
    "confidenceIntervalMaxValue = meanOfSampleMean + 1.96*2.88\n",
    "print(confidenceIntervalMaxValue)"
   ]
  },
  {
   "cell_type": "code",
   "execution_count": 187,
   "metadata": {},
   "outputs": [],
   "source": [
    "samples = np.random.normal(loc=67.5,scale=5,size=(1000,3))"
   ]
  },
  {
   "cell_type": "code",
   "execution_count": 188,
   "metadata": {},
   "outputs": [],
   "source": [
    "sampleMeans = np.mean(samples,axis=1)"
   ]
  },
  {
   "cell_type": "code",
   "execution_count": 189,
   "metadata": {},
   "outputs": [
    {
     "data": {
      "text/plain": [
       "949"
      ]
     },
     "execution_count": 189,
     "metadata": {},
     "output_type": "execute_result"
    }
   ],
   "source": [
    "np.count_nonzero(sampleMeans[((sampleMeans >= confidenceIntervalMinValue) & (sampleMeans <= confidenceIntervalMaxValue))])\n",
    "                 \n",
    "                 \n",
    "                 "
   ]
  },
  {
   "cell_type": "code",
   "execution_count": null,
   "metadata": {},
   "outputs": [],
   "source": []
  }
 ],
 "metadata": {
  "kernelspec": {
   "display_name": "Python 3",
   "language": "python",
   "name": "python3"
  },
  "language_info": {
   "codemirror_mode": {
    "name": "ipython",
    "version": 3
   },
   "file_extension": ".py",
   "mimetype": "text/x-python",
   "name": "python",
   "nbconvert_exporter": "python",
   "pygments_lexer": "ipython3",
   "version": "3.7.0"
  }
 },
 "nbformat": 4,
 "nbformat_minor": 2
}
