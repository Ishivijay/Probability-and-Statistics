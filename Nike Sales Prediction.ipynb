{
 "cells": [
  {
   "cell_type": "code",
   "execution_count": 1,
   "metadata": {},
   "outputs": [],
   "source": [
    "##PROGRAM TO TEST SALES OF NIKE (GIVEN DATA OF LAST 30 YRS) IF THEY'RE GOING DOWN OR IS JUST A GLITCH BY USING HYPOTHESIS TESTING.)\n",
    "import pandas as pd\n",
    "import numpy as np \n",
    "import matplotlib.pyplot as plt"
   ]
  },
  {
   "cell_type": "code",
   "execution_count": 2,
   "metadata": {},
   "outputs": [],
   "source": [
    "df = pd.read_csv(\"Sale_Data.csv\")"
   ]
  },
  {
   "cell_type": "code",
   "execution_count": 3,
   "metadata": {},
   "outputs": [
    {
     "data": {
      "text/html": [
       "<div>\n",
       "<style scoped>\n",
       "    .dataframe tbody tr th:only-of-type {\n",
       "        vertical-align: middle;\n",
       "    }\n",
       "\n",
       "    .dataframe tbody tr th {\n",
       "        vertical-align: top;\n",
       "    }\n",
       "\n",
       "    .dataframe thead th {\n",
       "        text-align: right;\n",
       "    }\n",
       "</style>\n",
       "<table border=\"1\" class=\"dataframe\">\n",
       "  <thead>\n",
       "    <tr style=\"text-align: right;\">\n",
       "      <th></th>\n",
       "      <th>Unnamed: 0</th>\n",
       "      <th>Sale</th>\n",
       "    </tr>\n",
       "  </thead>\n",
       "  <tbody>\n",
       "    <tr>\n",
       "      <th>0</th>\n",
       "      <td>0</td>\n",
       "      <td>159000.562916</td>\n",
       "    </tr>\n",
       "    <tr>\n",
       "      <th>1</th>\n",
       "      <td>1</td>\n",
       "      <td>167522.521299</td>\n",
       "    </tr>\n",
       "    <tr>\n",
       "      <th>2</th>\n",
       "      <td>2</td>\n",
       "      <td>172103.705363</td>\n",
       "    </tr>\n",
       "    <tr>\n",
       "      <th>3</th>\n",
       "      <td>3</td>\n",
       "      <td>169740.078806</td>\n",
       "    </tr>\n",
       "    <tr>\n",
       "      <th>4</th>\n",
       "      <td>4</td>\n",
       "      <td>156169.964716</td>\n",
       "    </tr>\n",
       "  </tbody>\n",
       "</table>\n",
       "</div>"
      ],
      "text/plain": [
       "   Unnamed: 0           Sale\n",
       "0           0  159000.562916\n",
       "1           1  167522.521299\n",
       "2           2  172103.705363\n",
       "3           3  169740.078806\n",
       "4           4  156169.964716"
      ]
     },
     "execution_count": 3,
     "metadata": {},
     "output_type": "execute_result"
    }
   ],
   "source": [
    "df.head()"
   ]
  },
  {
   "cell_type": "code",
   "execution_count": 4,
   "metadata": {},
   "outputs": [],
   "source": [
    "Sales = df['Sale']"
   ]
  },
  {
   "cell_type": "code",
   "execution_count": 5,
   "metadata": {},
   "outputs": [
    {
     "data": {
      "text/plain": [
       "0        159000.562916\n",
       "1        167522.521299\n",
       "2        172103.705363\n",
       "3        169740.078806\n",
       "4        156169.964716\n",
       "5        154192.540443\n",
       "6        176328.857151\n",
       "7        161676.796466\n",
       "8        190342.329650\n",
       "9        175499.298712\n",
       "10       170675.113592\n",
       "11       161606.102845\n",
       "12       156419.607335\n",
       "13       166796.222339\n",
       "14       179664.326638\n",
       "15       154690.004573\n",
       "16       174551.882436\n",
       "17       157963.397487\n",
       "18       173309.145436\n",
       "19       158662.306163\n",
       "20       136970.799956\n",
       "21       172516.421877\n",
       "22       156372.304428\n",
       "23       180855.379868\n",
       "24       174924.016167\n",
       "25       164966.598760\n",
       "26       171038.208029\n",
       "27       155570.704363\n",
       "28       170337.869052\n",
       "29       163194.199449\n",
       "             ...      \n",
       "10920    162729.361466\n",
       "10921    167490.923226\n",
       "10922    180782.174782\n",
       "10923    171347.424649\n",
       "10924    158928.950995\n",
       "10925    170151.860280\n",
       "10926    179973.182864\n",
       "10927    142535.826129\n",
       "10928    155122.031347\n",
       "10929    166336.188370\n",
       "10930    168459.958090\n",
       "10931    160758.402099\n",
       "10932    175449.762231\n",
       "10933    153638.229638\n",
       "10934    164572.695835\n",
       "10935    155817.595435\n",
       "10936    162640.331489\n",
       "10937    159579.890647\n",
       "10938    165570.893510\n",
       "10939    152327.954533\n",
       "10940    172596.911314\n",
       "10941    165858.210314\n",
       "10942    180023.120131\n",
       "10943    150867.401471\n",
       "10944    167298.365262\n",
       "10945    161061.244825\n",
       "10946    159962.254698\n",
       "10947    159917.367243\n",
       "10948    158870.431478\n",
       "10949    177971.767437\n",
       "Name: Sale, Length: 10950, dtype: float64"
      ]
     },
     "execution_count": 5,
     "metadata": {},
     "output_type": "execute_result"
    }
   ],
   "source": [
    "Sales"
   ]
  },
  {
   "cell_type": "code",
   "execution_count": 6,
   "metadata": {},
   "outputs": [],
   "source": [
    "sample_data = np.random.choice(Sales,(300,50))"
   ]
  },
  {
   "cell_type": "code",
   "execution_count": 7,
   "metadata": {},
   "outputs": [
    {
     "data": {
      "text/plain": [
       "array([[181297.10716363, 168157.67544453, 146388.50513176, ...,\n",
       "        181670.28552995, 163629.50864354, 184214.80391516],\n",
       "       [166863.07910601, 151358.77112457, 178081.80947357, ...,\n",
       "        180917.84230817, 161558.82358308, 155580.74089587],\n",
       "       [158069.68367349, 160277.63589261, 155033.29363752, ...,\n",
       "        170553.7149971 , 185168.08800996, 170618.12443902],\n",
       "       ...,\n",
       "       [167468.65746692, 183752.08773778, 169076.58070851, ...,\n",
       "        179523.11606625, 183288.65912465, 168158.07889608],\n",
       "       [170277.67731105, 166932.19658808, 170462.38045809, ...,\n",
       "        163791.33538158, 144497.60611406, 169177.34484932],\n",
       "       [157076.88466018, 164389.77568529, 150047.39495032, ...,\n",
       "        171163.5152498 , 160127.41187554, 162553.34696459]])"
      ]
     },
     "execution_count": 7,
     "metadata": {},
     "output_type": "execute_result"
    }
   ],
   "source": [
    "sample_data"
   ]
  },
  {
   "cell_type": "code",
   "execution_count": 8,
   "metadata": {},
   "outputs": [],
   "source": [
    "sampling_mean = np.mean(sample_data,axis=1)"
   ]
  },
  {
   "cell_type": "code",
   "execution_count": 9,
   "metadata": {},
   "outputs": [
    {
     "data": {
      "text/plain": [
       "array([165378.97794961, 166303.782573  , 164401.14500669, 166507.21420935,\n",
       "       164495.76137123, 165410.02258213, 166151.8378268 , 165815.27462311,\n",
       "       163523.27639652, 165415.18420133, 163958.75618509, 167035.81328063,\n",
       "       165433.21232348, 163389.56621721, 166006.59704557, 164950.39403679,\n",
       "       165029.27590233, 163822.82809456, 165068.31465364, 165689.68149017,\n",
       "       164873.17291167, 164220.92690958, 165798.01486473, 166448.15456112,\n",
       "       165766.81651843, 167187.11366036, 163801.79829644, 163636.97126647,\n",
       "       164944.95926174, 166672.02046986, 166877.10060464, 163453.865072  ,\n",
       "       165343.5147096 , 165620.73286268, 166647.25637303, 166989.6677865 ,\n",
       "       165349.46297625, 165701.54945752, 164246.36743748, 166060.37141756,\n",
       "       163085.73392306, 166523.91828047, 164949.46537791, 165840.65340927,\n",
       "       162044.46779342, 167349.95000861, 163570.24976523, 163693.14635339,\n",
       "       164114.06619881, 167252.59289629, 165459.49412493, 164519.0795633 ,\n",
       "       164216.53828219, 164084.86466948, 166708.54965544, 165554.30311521,\n",
       "       162839.214489  , 166053.60876003, 165593.62423991, 166180.96332005,\n",
       "       165616.40206297, 164650.90431175, 164431.91539873, 165637.33172642,\n",
       "       163624.42966604, 163593.12304554, 163233.85595361, 165819.11896372,\n",
       "       162239.74744794, 164632.25833125, 164868.18272551, 164114.07868428,\n",
       "       167667.28333528, 163852.75569926, 166242.05416025, 164895.66393647,\n",
       "       164646.97722599, 164505.13517613, 165369.81407268, 164084.39452114,\n",
       "       163242.92809536, 165827.93284605, 167256.65771525, 166023.512506  ,\n",
       "       162945.99978087, 163275.61502791, 165599.06855275, 163365.58899421,\n",
       "       166274.14051228, 165252.53655799, 166637.72295857, 164967.814185  ,\n",
       "       165603.44877105, 164285.73445786, 166114.6861957 , 168023.04924236,\n",
       "       165569.97889697, 164378.52809927, 164755.02112057, 164647.26495175,\n",
       "       162237.98328488, 165321.80734205, 167096.75490812, 167005.68792907,\n",
       "       165390.94085067, 164860.79593133, 163473.56587039, 165524.95738107,\n",
       "       165541.28832615, 163531.32426212, 163285.4090009 , 165123.02605286,\n",
       "       165265.14959071, 165332.26293231, 165791.63946607, 165373.67891138,\n",
       "       164573.22013223, 165589.41384083, 166118.46596267, 165726.13301324,\n",
       "       163942.96108278, 165135.45091721, 165417.4920682 , 162910.52710998,\n",
       "       165756.01074921, 165245.00283042, 167383.31904568, 164857.17686171,\n",
       "       165169.14729294, 164644.42993302, 162573.09269215, 166290.63115737,\n",
       "       169810.30851964, 163646.13124054, 165931.82668786, 164446.7236761 ,\n",
       "       164958.22874243, 165119.51876131, 164867.07626127, 164001.43137279,\n",
       "       163609.42924142, 163291.60131333, 164847.7406443 , 166252.7376326 ,\n",
       "       165736.78912121, 162849.76138566, 165075.30769581, 165447.77464819,\n",
       "       166680.04850433, 165138.6242309 , 164206.83624294, 165065.2594125 ,\n",
       "       162933.03240242, 167099.03956548, 163977.8377957 , 163513.42108712,\n",
       "       165797.10533336, 164282.31657199, 164291.27059046, 164437.16553425,\n",
       "       163131.52456115, 166646.0760677 , 162473.83537816, 165394.85117096,\n",
       "       164702.92646941, 163685.47989742, 164629.70256738, 162543.99416948,\n",
       "       164810.91472627, 162960.41422766, 163149.22614642, 164262.36820868,\n",
       "       166098.28845413, 166477.15021125, 168231.79806492, 165739.03346945,\n",
       "       162717.44599843, 166015.07368429, 165388.38782541, 164369.80425156,\n",
       "       165510.0523588 , 164110.96769811, 164203.05347931, 164351.15434188,\n",
       "       162766.43983223, 168583.04719989, 165774.06432299, 162774.57022037,\n",
       "       163816.20462217, 166323.50625246, 163809.01278895, 163468.52361709,\n",
       "       166794.74306316, 163451.21272869, 165896.19294521, 163700.3954233 ,\n",
       "       169088.83846787, 164026.02728859, 165991.0885556 , 162713.24017136,\n",
       "       165257.39824181, 160362.55773569, 165661.96467441, 167141.63342888,\n",
       "       165698.81990248, 166523.77375341, 165726.03380043, 165041.74607377,\n",
       "       163795.26849283, 161688.53449863, 165211.03196527, 165184.28789265,\n",
       "       164870.0377622 , 165939.1004414 , 164234.5968653 , 165438.26230026,\n",
       "       164033.80012564, 165993.74255625, 166411.91619201, 164530.0320512 ,\n",
       "       164603.77085334, 163826.41639786, 165169.27275726, 165299.27342139,\n",
       "       163800.68087604, 163728.11832874, 164141.90848647, 165109.39705617,\n",
       "       165045.2856962 , 166995.53996608, 162453.04696544, 163677.92296923,\n",
       "       167170.67563742, 161991.00765102, 166824.48359027, 163991.27923028,\n",
       "       165637.56072673, 164547.92379901, 164241.67686433, 165008.62325466,\n",
       "       165685.13452997, 165461.08699702, 163974.27506584, 163704.16610287,\n",
       "       164356.39850195, 164651.34333224, 165711.64018437, 165609.77030783,\n",
       "       165699.25135471, 165157.27247103, 164222.93613375, 165629.42102915,\n",
       "       163188.74917887, 162214.50387927, 167372.70812525, 164917.10239694,\n",
       "       166212.79041623, 164077.02617413, 166240.84882919, 162744.25714684,\n",
       "       166682.76069046, 165143.8773329 , 165482.52731327, 166588.22912996,\n",
       "       162964.27100185, 164080.28233106, 164708.94057843, 165517.32254065,\n",
       "       164510.86612923, 166276.76165668, 164877.11584804, 164795.35636248,\n",
       "       164260.82938565, 163823.41157505, 164836.59960021, 166527.15685669,\n",
       "       166130.45660477, 167233.4397328 , 164985.46500647, 163435.14482641,\n",
       "       165576.14385769, 164620.34090664, 167574.81524973, 164685.8071243 ,\n",
       "       166941.7530529 , 165000.14375521, 165475.61419673, 163415.77653231,\n",
       "       166720.8756201 , 165215.32574628, 166834.3421139 , 163738.29641702,\n",
       "       165195.84223884, 165469.18694368, 168631.97848157, 166134.93489946,\n",
       "       164045.61023756, 167273.44571415, 164797.24628804, 162691.05631747])"
      ]
     },
     "execution_count": 9,
     "metadata": {},
     "output_type": "execute_result"
    }
   ],
   "source": [
    "sampling_mean"
   ]
  },
  {
   "cell_type": "code",
   "execution_count": 10,
   "metadata": {},
   "outputs": [
    {
     "data": {
      "text/plain": [
       "(300,)"
      ]
     },
     "execution_count": 10,
     "metadata": {},
     "output_type": "execute_result"
    }
   ],
   "source": [
    "sampling_mean.shape"
   ]
  },
  {
   "cell_type": "code",
   "execution_count": 11,
   "metadata": {},
   "outputs": [
    {
     "data": {
      "text/plain": [
       "(array([ 1.,  6., 21., 54., 70., 85., 39., 18.,  4.,  2.]),\n",
       " array([160362.55773569, 161307.33281408, 162252.10789248, 163196.88297087,\n",
       "        164141.65804927, 165086.43312766, 166031.20820606, 166975.98328445,\n",
       "        167920.75836285, 168865.53344124, 169810.30851964]),\n",
       " <a list of 10 Patch objects>)"
      ]
     },
     "execution_count": 11,
     "metadata": {},
     "output_type": "execute_result"
    },
    {
     "data": {
      "image/png": "[encoded data removed]",
      "text/plain": [
       "<Figure size 432x288 with 1 Axes>"
      ]
     },
     "metadata": {
      "needs_background": "light"
     },
     "output_type": "display_data"
    }
   ],
   "source": [
    "plt.hist(sampling_mean)"
   ]
  },
  {
   "cell_type": "code",
   "execution_count": 12,
   "metadata": {},
   "outputs": [],
   "source": [
    "pop_mean = np.mean(sampling_mean)"
   ]
  },
  {
   "cell_type": "code",
   "execution_count": 13,
   "metadata": {},
   "outputs": [
    {
     "data": {
      "text/plain": [
       "165006.52017012026"
      ]
     },
     "execution_count": 13,
     "metadata": {},
     "output_type": "execute_result"
    }
   ],
   "source": [
    "pop_mean"
   ]
  },
  {
   "cell_type": "code",
   "execution_count": 14,
   "metadata": {},
   "outputs": [],
   "source": [
    "sampling_std = np.std(sample_data,axis=1)"
   ]
  },
  {
   "cell_type": "code",
   "execution_count": 15,
   "metadata": {},
   "outputs": [
    {
     "data": {
      "text/plain": [
       "array([10306.97158056, 10233.95638096,  9422.86787149,  7371.04487223,\n",
       "        9978.71593024, 10341.43407173,  7971.73808994,  8669.37672534,\n",
       "        9353.41336378,  8203.33918615,  9034.84959385,  7141.00096121,\n",
       "        8348.87597542, 10066.584332  ,  9368.99638585,  8218.50621451,\n",
       "        8678.36511533,  9508.71353675, 11025.63029588, 10181.11889095,\n",
       "        8959.26368936, 10564.89366755, 10464.15703846, 10021.00276267,\n",
       "       10630.40300191, 11003.367195  ,  9054.50145105,  9817.24188631,\n",
       "       10677.47390579, 10209.19436971,  9291.50639615,  9328.57792869,\n",
       "        8437.96554383, 11555.75802314, 10655.40910959,  8187.41041797,\n",
       "       11278.8317973 ,  9811.40787069,  9904.16571927, 11071.59250631,\n",
       "        8920.25139869, 10481.57514837, 10522.45776545, 10778.44569999,\n",
       "        9696.19659682,  9330.19021099, 10359.45819564, 10910.37863698,\n",
       "       11154.96150424,  8348.99497081,  8152.25077846,  9535.92625111,\n",
       "        8777.76761495,  9317.28983969,  9501.36831294,  9497.86714405,\n",
       "        9607.8319578 ,  8200.91777939,  9278.93610791, 11508.22637712,\n",
       "        9356.31819351,  9572.27369194,  9981.95486002,  9563.28037882,\n",
       "       11189.35345486, 10687.4360239 , 12311.74260072,  9634.86730347,\n",
       "        9906.4878094 ,  9386.188279  ,  9421.87075231,  9197.49360856,\n",
       "       11260.39180817, 10546.5345562 , 10657.39568905,  9722.13848471,\n",
       "        8711.83479951,  9845.95642124,  8322.60534931, 10057.21349199,\n",
       "       11609.15640538,  9301.27627898, 10128.46191761, 11264.91056769,\n",
       "        9177.30197457,  9794.75757251,  8923.36162433,  8798.35257749,\n",
       "       10547.71659305, 10257.81385738, 11741.42607359,  9823.29758108,\n",
       "        9633.02398337,  7795.68301473,  9184.02450907, 10568.06726631,\n",
       "        9800.03773513,  9600.43587092,  8898.46241426,  7999.98906182,\n",
       "       10143.1727137 ,  8973.12989853,  8764.4917276 , 10691.47701653,\n",
       "        9355.68541327, 10663.85206852, 10042.97644571, 10601.12842672,\n",
       "       10313.36370364, 10273.20056076,  8890.08394688,  9499.90407841,\n",
       "       10987.2370202 ,  9499.80523258, 11155.34236008,  8576.05544032,\n",
       "       12760.82265805, 10055.59699969,  8843.48374703,  9708.31103296,\n",
       "       10902.1326002 ,  8953.44513096,  9557.36630052,  9416.8292277 ,\n",
       "        7929.03650724, 10208.20569331, 10640.77563944,  7944.72521577,\n",
       "        8893.67218653, 10057.54543891, 10060.0460305 ,  9529.72362966,\n",
       "       11580.17315429, 10292.09998549,  9667.82008697, 10484.95162223,\n",
       "        8984.25896791,  8971.24264606, 11720.06290663, 10651.83963303,\n",
       "        8545.36629405, 13074.790169  ,  8779.57725717, 10814.64427453,\n",
       "       10319.81629218, 10452.49043598, 10053.31190163, 10065.74301807,\n",
       "        8674.6061099 , 12738.60689872, 11349.31151115,  9079.81925164,\n",
       "        8486.04342825,  8656.80041528,  9770.52994847,  9810.31219287,\n",
       "        9576.80679423,  8181.41092127, 11797.19025667, 10458.08081507,\n",
       "        9476.04297173, 10383.26327464,  8720.16422   ,  9270.89411479,\n",
       "       10166.13497988,  9902.31083321, 10317.11371555, 10189.13051013,\n",
       "       10180.15446136, 10625.66794929,  9196.55265978, 10656.73505605,\n",
       "       10384.46911073,  9235.724097  ,  9022.68070434,  8997.01571277,\n",
       "       12947.41570057,  8208.23350449, 10330.24637004, 10109.22411607,\n",
       "        8864.79604937,  9791.26681037,  9238.43244406,  9721.03885563,\n",
       "       10377.88610726, 10794.43413793, 11757.30399718,  9042.68689034,\n",
       "       10323.70733398,  9823.04179271,  9797.99945812, 11129.17639302,\n",
       "        9624.8995953 ,  8636.72547969, 10352.63616761,  8906.71092141,\n",
       "       11302.55837037, 10217.75341357, 10694.08043441,  9123.073656  ,\n",
       "       11226.86300218,  9551.65121586, 10492.60756564, 10620.17958007,\n",
       "       10699.15883176,  9320.25690365, 10277.96997672,  8751.26990096,\n",
       "        9655.46152442,  9335.04990189, 11141.73418505,  8783.52803095,\n",
       "        9462.77410766, 10700.56331445,  9714.40284822,  7914.68679887,\n",
       "        8647.36204996,  9117.81605348, 10159.49930429, 10616.0903541 ,\n",
       "       11277.00978322,  8680.318405  ,  8783.8258482 ,  9297.48375195,\n",
       "        9932.41110494,  8953.78703977,  9306.6214809 ,  7717.10982349,\n",
       "        8941.86537833,  9209.57977776,  9404.31725653,  9206.04559734,\n",
       "       10186.16079841,  9137.33926373,  8798.24154683,  8319.50102824,\n",
       "        9309.86037111,  9361.48615053,  9531.95137921, 10272.76919636,\n",
       "       10224.44073349,  8050.20755619,  9593.90618971,  9947.77240252,\n",
       "        8980.37280273,  9063.57652091,  9298.72715089,  9227.12441901,\n",
       "       10544.8687087 , 12360.97358786, 10132.5619643 ,  7842.28541909,\n",
       "        9909.15314469,  9251.23012711, 10985.73792917,  8360.45345441,\n",
       "        9940.028063  ,  8019.88666052,  9762.28033917,  9083.35926435,\n",
       "       10778.82632374, 10570.52650993, 10907.10278866,  9847.60630373,\n",
       "        9451.79289664, 11091.11939949,  9186.62232528, 11033.90325279,\n",
       "        9623.28338491,  9067.85723534, 10089.83739723,  9736.88618704,\n",
       "       11574.05159085, 10740.95301026,  9088.87411466,  9485.03811792,\n",
       "        8761.72939655,  9522.03731796, 11829.38359931,  9894.60766171,\n",
       "        9584.61589373,  8108.42658077,  8939.67638987,  9942.10976154,\n",
       "        9199.29275275, 10099.46315509, 11182.51977556, 10318.10169607,\n",
       "        8689.98156162, 11130.4487601 ,  9630.86281799, 10159.56625884,\n",
       "       10977.72114187, 12499.29098948,  9674.94463803,  8748.20066935,\n",
       "        9809.59371151, 10087.76989012, 11242.68359291,  8125.53907994])"
      ]
     },
     "execution_count": 15,
     "metadata": {},
     "output_type": "execute_result"
    }
   ],
   "source": [
    "sampling_std"
   ]
  },
  {
   "cell_type": "code",
   "execution_count": 16,
   "metadata": {},
   "outputs": [
    {
     "data": {
      "text/plain": [
       "(300,)"
      ]
     },
     "execution_count": 16,
     "metadata": {},
     "output_type": "execute_result"
    }
   ],
   "source": [
    "sampling_std.shape"
   ]
  },
  {
   "cell_type": "code",
   "execution_count": 17,
   "metadata": {},
   "outputs": [],
   "source": [
    "pop_std = np.mean(sampling_std)"
   ]
  },
  {
   "cell_type": "code",
   "execution_count": 18,
   "metadata": {},
   "outputs": [
    {
     "data": {
      "text/plain": [
       "9800.033096115782"
      ]
     },
     "execution_count": 18,
     "metadata": {},
     "output_type": "execute_result"
    }
   ],
   "source": [
    "pop_std"
   ]
  },
  {
   "cell_type": "code",
   "execution_count": 19,
   "metadata": {},
   "outputs": [],
   "source": [
    "a = [207567,150899,120456,175123,230908,101234,110267,103456,98567,27500,215979,111111,190000,97034]"
   ]
  },
  {
   "cell_type": "code",
   "execution_count": 20,
   "metadata": {},
   "outputs": [],
   "source": [
    "sample_mean = np.mean(a)"
   ]
  },
  {
   "cell_type": "code",
   "execution_count": 21,
   "metadata": {},
   "outputs": [
    {
     "data": {
      "text/plain": [
       "138578.64285714287"
      ]
     },
     "execution_count": 21,
     "metadata": {},
     "output_type": "execute_result"
    }
   ],
   "source": [
    "sample_mean"
   ]
  },
  {
   "cell_type": "code",
   "execution_count": 22,
   "metadata": {},
   "outputs": [],
   "source": [
    "n = np.sqrt(14)"
   ]
  },
  {
   "cell_type": "code",
   "execution_count": 23,
   "metadata": {},
   "outputs": [],
   "source": [
    "t = (sample_mean - pop_mean)/(pop_std/n)"
   ]
  },
  {
   "cell_type": "code",
   "execution_count": 24,
   "metadata": {},
   "outputs": [
    {
     "data": {
      "text/plain": [
       "-10.090176369307342"
      ]
     },
     "execution_count": 24,
     "metadata": {},
     "output_type": "execute_result"
    }
   ],
   "source": [
    "t"
   ]
  },
  {
   "cell_type": "code",
   "execution_count": null,
   "metadata": {},
   "outputs": [],
   "source": []
  }
 ],
 "metadata": {
  "kernelspec": {
   "display_name": "Python 3",
   "language": "python",
   "name": "python3"
  },
  "language_info": {
   "codemirror_mode": {
    "name": "ipython",
    "version": 3
   },
   "file_extension": ".py",
   "mimetype": "text/x-python",
   "name": "python",
   "nbconvert_exporter": "python",
   "pygments_lexer": "ipython3",
   "version": "3.7.0"
  }
 },
 "nbformat": 4,
 "nbformat_minor": 2
}
