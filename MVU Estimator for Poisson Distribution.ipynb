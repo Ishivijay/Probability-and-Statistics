{
 "cells": [
  {
   "cell_type": "code",
   "execution_count": 1,
   "metadata": {},
   "outputs": [],
   "source": [
    "import pandas as pd\n",
    "import numpy as np\n",
    "import matplotlib.pyplot as plt"
   ]
  },
  {
   "cell_type": "code",
   "execution_count": 8,
   "metadata": {},
   "outputs": [],
   "source": [
    "sample_data = np.random.poisson(5.0, (1000,30))"
   ]
  },
  {
   "cell_type": "code",
   "execution_count": 9,
   "metadata": {},
   "outputs": [
    {
     "data": {
      "text/plain": [
       "array([[7, 5, 3, ..., 6, 5, 7],\n",
       "       [7, 3, 7, ..., 5, 1, 3],\n",
       "       [3, 5, 6, ..., 6, 5, 2],\n",
       "       ...,\n",
       "       [7, 4, 6, ..., 3, 5, 5],\n",
       "       [2, 5, 7, ..., 9, 3, 5],\n",
       "       [9, 9, 4, ..., 5, 4, 8]])"
      ]
     },
     "execution_count": 9,
     "metadata": {},
     "output_type": "execute_result"
    }
   ],
   "source": [
    "sample_data"
   ]
  },
  {
   "cell_type": "code",
   "execution_count": 10,
   "metadata": {},
   "outputs": [
    {
     "data": {
      "text/plain": [
       "(1000, 30)"
      ]
     },
     "execution_count": 10,
     "metadata": {},
     "output_type": "execute_result"
    }
   ],
   "source": [
    "sample_data.shape"
   ]
  },
  {
   "cell_type": "code",
   "execution_count": 16,
   "metadata": {},
   "outputs": [],
   "source": [
    "mvu_estimator = np.mean(sample_data, axis=1)"
   ]
  },
  {
   "cell_type": "code",
   "execution_count": 17,
   "metadata": {},
   "outputs": [
    {
     "data": {
      "text/plain": [
       "array([4.96666667, 5.        , 5.83333333, 4.76666667, 4.76666667,\n",
       "       4.93333333, 5.56666667, 5.73333333, 4.43333333, 5.53333333,\n",
       "       5.06666667, 4.5       , 4.23333333, 5.16666667, 4.73333333,\n",
       "       4.86666667, 5.06666667, 5.5       , 4.76666667, 5.23333333,\n",
       "       4.66666667, 5.36666667, 4.83333333, 4.96666667, 4.73333333,\n",
       "       5.2       , 5.46666667, 4.63333333, 5.86666667, 4.76666667,\n",
       "       5.53333333, 5.16666667, 5.1       , 5.1       , 4.96666667,\n",
       "       5.8       , 4.36666667, 4.5       , 5.03333333, 5.13333333,\n",
       "       5.73333333, 5.86666667, 4.4       , 5.16666667, 4.86666667,\n",
       "       4.6       , 5.        , 4.7       , 5.23333333, 4.66666667,\n",
       "       4.93333333, 5.23333333, 4.76666667, 5.33333333, 4.56666667,\n",
       "       4.9       , 5.06666667, 4.16666667, 6.1       , 5.1       ,\n",
       "       4.46666667, 5.23333333, 5.23333333, 5.3       , 4.56666667,\n",
       "       5.3       , 4.8       , 4.33333333, 5.2       , 4.53333333,\n",
       "       5.5       , 5.66666667, 5.06666667, 4.73333333, 5.16666667,\n",
       "       5.13333333, 4.63333333, 4.3       , 5.56666667, 4.8       ,\n",
       "       4.66666667, 4.83333333, 5.5       , 5.03333333, 4.8       ,\n",
       "       5.53333333, 5.2       , 4.76666667, 5.3       , 5.23333333,\n",
       "       5.16666667, 4.9       , 5.26666667, 4.83333333, 4.96666667,\n",
       "       4.66666667, 4.93333333, 4.8       , 4.8       , 5.23333333,\n",
       "       4.8       , 5.03333333, 5.13333333, 4.93333333, 4.56666667,\n",
       "       4.46666667, 4.76666667, 5.43333333, 4.56666667, 4.9       ,\n",
       "       4.9       , 5.56666667, 4.9       , 4.93333333, 4.53333333,\n",
       "       5.53333333, 4.43333333, 4.66666667, 5.13333333, 4.7       ,\n",
       "       5.43333333, 5.1       , 4.8       , 4.33333333, 4.5       ,\n",
       "       4.43333333, 4.9       , 5.43333333, 5.26666667, 5.2       ,\n",
       "       5.3       , 5.        , 5.2       , 4.7       , 5.2       ,\n",
       "       4.9       , 4.56666667, 4.66666667, 5.13333333, 4.5       ,\n",
       "       4.76666667, 5.13333333, 5.06666667, 4.36666667, 4.66666667,\n",
       "       4.9       , 4.63333333, 5.43333333, 5.76666667, 4.86666667,\n",
       "       4.56666667, 4.73333333, 4.36666667, 4.03333333, 4.06666667,\n",
       "       5.43333333, 5.4       , 5.63333333, 5.3       , 4.7       ,\n",
       "       5.23333333, 5.1       , 4.43333333, 4.93333333, 4.83333333,\n",
       "       5.13333333, 4.93333333, 5.13333333, 5.5       , 5.43333333,\n",
       "       5.5       , 4.4       , 5.26666667, 4.83333333, 5.2       ,\n",
       "       4.8       , 4.9       , 4.86666667, 4.63333333, 5.2       ,\n",
       "       5.2       , 4.66666667, 5.16666667, 4.3       , 5.53333333,\n",
       "       4.76666667, 4.93333333, 4.36666667, 4.63333333, 4.46666667,\n",
       "       4.73333333, 5.06666667, 4.9       , 5.1       , 5.66666667,\n",
       "       4.8       , 4.8       , 5.43333333, 5.43333333, 5.73333333,\n",
       "       4.73333333, 4.56666667, 5.36666667, 4.53333333, 5.3       ,\n",
       "       5.3       , 5.56666667, 5.2       , 5.4       , 4.13333333,\n",
       "       5.        , 4.4       , 5.06666667, 5.23333333, 5.33333333,\n",
       "       5.43333333, 4.7       , 4.53333333, 5.16666667, 4.2       ,\n",
       "       4.73333333, 4.76666667, 5.03333333, 5.8       , 5.56666667,\n",
       "       4.86666667, 4.9       , 5.5       , 5.26666667, 5.1       ,\n",
       "       5.26666667, 5.16666667, 4.76666667, 4.23333333, 4.66666667,\n",
       "       4.8       , 5.06666667, 4.73333333, 5.46666667, 5.33333333,\n",
       "       5.76666667, 4.9       , 4.6       , 4.53333333, 5.4       ,\n",
       "       5.5       , 4.5       , 5.23333333, 5.56666667, 5.06666667,\n",
       "       4.63333333, 5.03333333, 4.53333333, 4.5       , 4.93333333,\n",
       "       6.23333333, 4.9       , 5.06666667, 5.5       , 4.63333333,\n",
       "       4.66666667, 4.46666667, 4.93333333, 4.86666667, 4.        ,\n",
       "       5.2       , 5.23333333, 4.96666667, 5.6       , 5.03333333,\n",
       "       5.        , 4.76666667, 5.06666667, 5.23333333, 5.7       ,\n",
       "       5.3       , 5.4       , 5.6       , 5.53333333, 4.5       ,\n",
       "       5.46666667, 5.83333333, 4.76666667, 5.26666667, 5.2       ,\n",
       "       4.9       , 4.46666667, 5.13333333, 4.73333333, 5.1       ,\n",
       "       5.13333333, 4.96666667, 5.06666667, 5.6       , 4.13333333,\n",
       "       4.76666667, 4.93333333, 5.76666667, 5.33333333, 6.        ,\n",
       "       4.56666667, 4.93333333, 5.13333333, 4.9       , 5.3       ,\n",
       "       5.16666667, 5.03333333, 4.73333333, 6.        , 5.3       ,\n",
       "       5.33333333, 4.9       , 4.6       , 5.3       , 4.53333333,\n",
       "       4.8       , 5.23333333, 4.8       , 4.43333333, 5.3       ,\n",
       "       5.26666667, 4.93333333, 5.26666667, 5.53333333, 4.93333333,\n",
       "       5.66666667, 5.03333333, 4.43333333, 4.86666667, 5.5       ,\n",
       "       5.43333333, 5.83333333, 5.23333333, 6.36666667, 4.66666667,\n",
       "       5.6       , 5.1       , 4.83333333, 5.5       , 5.1       ,\n",
       "       4.6       , 4.36666667, 5.23333333, 5.03333333, 4.96666667,\n",
       "       4.9       , 5.2       , 4.66666667, 4.83333333, 4.86666667,\n",
       "       4.46666667, 4.6       , 5.4       , 4.13333333, 5.13333333,\n",
       "       4.53333333, 5.3       , 5.96666667, 5.26666667, 5.3       ,\n",
       "       5.46666667, 5.06666667, 6.16666667, 4.53333333, 6.13333333,\n",
       "       4.63333333, 4.56666667, 4.6       , 4.7       , 5.43333333,\n",
       "       4.73333333, 4.46666667, 4.56666667, 4.9       , 4.7       ,\n",
       "       5.16666667, 5.73333333, 5.93333333, 5.66666667, 4.73333333,\n",
       "       4.9       , 4.46666667, 3.9       , 4.76666667, 5.16666667,\n",
       "       4.86666667, 5.6       , 4.23333333, 4.7       , 5.23333333,\n",
       "       5.53333333, 5.1       , 4.46666667, 4.36666667, 4.93333333,\n",
       "       5.2       , 5.63333333, 5.3       , 5.3       , 5.03333333,\n",
       "       4.66666667, 4.9       , 4.43333333, 5.3       , 4.9       ,\n",
       "       5.03333333, 5.63333333, 4.63333333, 5.23333333, 5.53333333,\n",
       "       4.86666667, 5.43333333, 5.3       , 4.9       , 4.83333333,\n",
       "       4.96666667, 5.4       , 4.66666667, 4.9       , 5.16666667,\n",
       "       5.16666667, 4.83333333, 5.        , 4.86666667, 4.53333333,\n",
       "       5.13333333, 5.        , 6.1       , 5.46666667, 5.6       ,\n",
       "       4.5       , 5.13333333, 4.6       , 5.8       , 4.66666667,\n",
       "       5.26666667, 4.93333333, 5.96666667, 4.66666667, 4.53333333,\n",
       "       5.23333333, 5.3       , 4.83333333, 4.9       , 5.63333333,\n",
       "       4.96666667, 5.83333333, 5.43333333, 4.76666667, 4.76666667,\n",
       "       4.86666667, 5.36666667, 5.06666667, 5.16666667, 4.06666667,\n",
       "       4.83333333, 4.73333333, 4.36666667, 4.26666667, 5.4       ,\n",
       "       4.93333333, 5.93333333, 4.8       , 5.26666667, 5.26666667,\n",
       "       4.5       , 5.56666667, 4.93333333, 4.43333333, 5.26666667,\n",
       "       5.5       , 4.66666667, 5.2       , 5.3       , 5.26666667,\n",
       "       5.43333333, 4.8       , 4.96666667, 5.73333333, 4.93333333,\n",
       "       4.76666667, 4.83333333, 4.3       , 5.9       , 4.46666667,\n",
       "       5.26666667, 5.2       , 5.63333333, 5.33333333, 4.73333333,\n",
       "       5.3       , 5.5       , 5.06666667, 4.46666667, 4.8       ,\n",
       "       5.46666667, 5.16666667, 5.26666667, 5.36666667, 5.06666667,\n",
       "       5.1       , 5.3       , 4.6       , 5.76666667, 4.7       ,\n",
       "       4.7       , 4.66666667, 5.13333333, 4.63333333, 4.56666667,\n",
       "       5.6       , 5.13333333, 5.96666667, 5.16666667, 4.63333333,\n",
       "       4.9       , 5.        , 5.        , 4.93333333, 4.9       ,\n",
       "       4.83333333, 5.4       , 4.66666667, 5.43333333, 5.76666667,\n",
       "       5.2       , 5.        , 4.46666667, 4.56666667, 4.86666667,\n",
       "       5.06666667, 4.43333333, 4.7       , 4.63333333, 5.46666667,\n",
       "       4.43333333, 4.93333333, 5.56666667, 4.16666667, 4.3       ,\n",
       "       4.96666667, 4.66666667, 4.33333333, 5.56666667, 5.6       ,\n",
       "       4.66666667, 5.6       , 5.03333333, 4.5       , 5.73333333,\n",
       "       4.7       , 5.73333333, 5.23333333, 5.3       , 5.03333333,\n",
       "       5.4       , 5.96666667, 4.56666667, 5.63333333, 4.6       ,\n",
       "       5.43333333, 4.7       , 4.4       , 4.76666667, 4.9       ,\n",
       "       4.93333333, 4.23333333, 5.53333333, 5.46666667, 5.        ,\n",
       "       4.9       , 5.1       , 5.3       , 5.        , 6.16666667,\n",
       "       5.7       , 5.46666667, 4.73333333, 5.        , 4.9       ,\n",
       "       4.86666667, 5.        , 4.96666667, 4.4       , 4.43333333,\n",
       "       5.13333333, 5.26666667, 4.5       , 4.3       , 4.86666667,\n",
       "       5.33333333, 4.63333333, 4.83333333, 4.76666667, 4.76666667,\n",
       "       4.83333333, 5.        , 4.76666667, 5.46666667, 5.33333333,\n",
       "       5.        , 5.16666667, 5.23333333, 4.86666667, 5.86666667,\n",
       "       5.66666667, 4.96666667, 4.7       , 4.73333333, 4.93333333,\n",
       "       5.66666667, 5.53333333, 5.        , 5.03333333, 4.83333333,\n",
       "       5.        , 4.7       , 4.6       , 5.3       , 4.83333333,\n",
       "       5.2       , 4.73333333, 5.        , 5.3       , 4.73333333,\n",
       "       5.53333333, 4.8       , 4.93333333, 4.96666667, 4.96666667,\n",
       "       5.06666667, 4.76666667, 5.23333333, 4.36666667, 4.86666667,\n",
       "       4.66666667, 4.46666667, 3.66666667, 4.83333333, 4.86666667,\n",
       "       5.16666667, 5.2       , 5.03333333, 4.43333333, 4.6       ,\n",
       "       5.53333333, 4.4       , 5.5       , 4.6       , 5.56666667,\n",
       "       4.83333333, 4.56666667, 4.43333333, 5.1       , 4.63333333,\n",
       "       4.86666667, 5.63333333, 5.06666667, 5.        , 4.83333333,\n",
       "       4.83333333, 4.63333333, 5.1       , 4.9       , 4.3       ,\n",
       "       5.7       , 5.8       , 4.86666667, 5.3       , 5.1       ,\n",
       "       4.86666667, 5.06666667, 5.16666667, 5.13333333, 4.63333333,\n",
       "       5.5       , 4.36666667, 4.33333333, 4.6       , 4.66666667,\n",
       "       4.66666667, 5.13333333, 5.23333333, 5.53333333, 5.16666667,\n",
       "       5.73333333, 5.73333333, 5.3       , 5.2       , 5.1       ,\n",
       "       5.23333333, 5.36666667, 5.26666667, 5.73333333, 4.7       ,\n",
       "       4.4       , 5.06666667, 4.83333333, 4.8       , 5.03333333,\n",
       "       5.46666667, 4.4       , 4.8       , 5.33333333, 5.03333333,\n",
       "       4.6       , 5.03333333, 5.36666667, 4.9       , 4.96666667,\n",
       "       5.36666667, 5.33333333, 4.23333333, 5.03333333, 4.83333333,\n",
       "       5.23333333, 4.83333333, 6.        , 4.9       , 4.86666667,\n",
       "       5.43333333, 5.73333333, 5.46666667, 4.        , 5.86666667,\n",
       "       4.7       , 4.86666667, 4.83333333, 5.26666667, 5.3       ,\n",
       "       4.8       , 4.66666667, 4.93333333, 4.76666667, 5.16666667,\n",
       "       5.33333333, 5.13333333, 4.66666667, 5.33333333, 5.2       ,\n",
       "       5.        , 4.23333333, 4.6       , 5.5       , 5.        ,\n",
       "       5.6       , 5.16666667, 5.06666667, 4.66666667, 4.66666667,\n",
       "       5.43333333, 5.93333333, 5.76666667, 4.56666667, 5.53333333,\n",
       "       5.16666667, 5.13333333, 4.5       , 5.9       , 4.8       ,\n",
       "       4.66666667, 5.1       , 4.76666667, 4.76666667, 4.86666667,\n",
       "       4.9       , 5.26666667, 5.46666667, 5.4       , 4.6       ,\n",
       "       5.06666667, 4.86666667, 5.8       , 4.83333333, 4.33333333,\n",
       "       5.5       , 5.16666667, 5.33333333, 5.43333333, 4.4       ,\n",
       "       4.86666667, 3.86666667, 5.26666667, 4.1       , 5.        ,\n",
       "       5.06666667, 5.46666667, 5.6       , 4.43333333, 5.        ,\n",
       "       5.2       , 4.63333333, 4.53333333, 4.93333333, 4.9       ,\n",
       "       5.3       , 4.96666667, 4.63333333, 4.2       , 5.23333333,\n",
       "       4.83333333, 4.53333333, 4.66666667, 5.1       , 5.3       ,\n",
       "       5.26666667, 4.46666667, 4.9       , 4.76666667, 5.23333333,\n",
       "       4.9       , 4.96666667, 5.3       , 5.33333333, 4.53333333,\n",
       "       4.5       , 4.93333333, 5.43333333, 5.46666667, 4.53333333,\n",
       "       4.56666667, 5.36666667, 4.66666667, 5.43333333, 5.23333333,\n",
       "       5.1       , 5.23333333, 4.36666667, 5.06666667, 4.76666667,\n",
       "       5.16666667, 5.33333333, 5.26666667, 4.9       , 4.9       ,\n",
       "       5.6       , 5.56666667, 5.03333333, 4.26666667, 5.13333333,\n",
       "       5.        , 4.86666667, 4.3       , 5.56666667, 5.16666667,\n",
       "       4.4       , 4.7       , 4.86666667, 5.26666667, 4.43333333,\n",
       "       4.83333333, 5.3       , 5.03333333, 5.3       , 5.        ,\n",
       "       4.73333333, 5.06666667, 4.8       , 4.86666667, 5.06666667,\n",
       "       5.46666667, 4.9       , 4.86666667, 5.16666667, 4.63333333,\n",
       "       4.96666667, 4.9       , 5.43333333, 4.76666667, 4.63333333,\n",
       "       6.16666667, 5.16666667, 4.26666667, 5.        , 4.36666667,\n",
       "       4.8       , 4.7       , 5.        , 5.43333333, 5.8       ,\n",
       "       5.6       , 5.2       , 5.46666667, 4.8       , 4.9       ,\n",
       "       4.6       , 5.2       , 4.6       , 5.4       , 4.56666667,\n",
       "       5.23333333, 4.9       , 4.6       , 5.2       , 5.36666667,\n",
       "       4.66666667, 4.6       , 3.83333333, 4.4       , 4.3       ,\n",
       "       5.06666667, 5.73333333, 4.8       , 5.36666667, 3.93333333,\n",
       "       5.83333333, 5.2       , 5.        , 4.8       , 4.9       ,\n",
       "       4.7       , 4.8       , 5.33333333, 4.86666667, 5.4       ,\n",
       "       4.46666667, 4.86666667, 5.2       , 5.1       , 5.06666667,\n",
       "       5.        , 4.53333333, 4.13333333, 4.46666667, 5.63333333,\n",
       "       4.86666667, 5.7       , 5.63333333, 4.86666667, 4.76666667,\n",
       "       4.56666667, 5.43333333, 4.7       , 4.7       , 4.76666667,\n",
       "       4.86666667, 5.4       , 5.        , 4.33333333, 4.93333333,\n",
       "       4.56666667, 5.23333333, 4.93333333, 5.        , 5.16666667,\n",
       "       4.9       , 4.73333333, 5.06666667, 5.16666667, 5.6       ,\n",
       "       4.93333333, 5.3       , 4.8       , 4.63333333, 4.5       ,\n",
       "       4.96666667, 5.5       , 5.13333333, 5.2       , 4.23333333,\n",
       "       4.63333333, 4.56666667, 5.56666667, 4.73333333, 4.6       ,\n",
       "       5.6       , 5.        , 4.9       , 4.6       , 4.46666667,\n",
       "       4.8       , 4.93333333, 5.06666667, 4.53333333, 4.56666667,\n",
       "       5.        , 5.36666667, 4.86666667, 5.4       , 4.93333333,\n",
       "       5.1       , 5.3       , 5.5       , 5.26666667, 5.        ,\n",
       "       4.        , 4.06666667, 5.16666667, 4.66666667, 5.7       ,\n",
       "       4.93333333, 4.56666667, 5.16666667, 4.6       , 5.53333333,\n",
       "       4.9       , 4.93333333, 5.23333333, 5.3       , 6.03333333])"
      ]
     },
     "execution_count": 17,
     "metadata": {},
     "output_type": "execute_result"
    }
   ],
   "source": [
    "mvu_estimator"
   ]
  },
  {
   "cell_type": "code",
   "execution_count": 18,
   "metadata": {},
   "outputs": [
    {
     "data": {
      "text/plain": [
       "(1000,)"
      ]
     },
     "execution_count": 18,
     "metadata": {},
     "output_type": "execute_result"
    }
   ],
   "source": [
    "mvu_estimator.shape"
   ]
  },
  {
   "cell_type": "code",
   "execution_count": 19,
   "metadata": {},
   "outputs": [
    {
     "data": {
      "text/plain": [
       "(array([  5.,  16.,  78., 174., 259., 213., 153.,  72.,  22.,   8.]),\n",
       " array([3.66666667, 3.93666667, 4.20666667, 4.47666667, 4.74666667,\n",
       "        5.01666667, 5.28666667, 5.55666667, 5.82666667, 6.09666667,\n",
       "        6.36666667]),\n",
       " <a list of 10 Patch objects>)"
      ]
     },
     "execution_count": 19,
     "metadata": {},
     "output_type": "execute_result"
    },
    {
     "data": {
      "image/png": "[encoded data removed]",
      "text/plain": [
       "<Figure size 432x288 with 1 Axes>"
      ]
     },
     "metadata": {
      "needs_background": "light"
     },
     "output_type": "display_data"
    }
   ],
   "source": [
    "plt.hist(mvu_estimator)"
   ]
  },
  {
   "cell_type": "code",
   "execution_count": 20,
   "metadata": {},
   "outputs": [],
   "source": [
    "sample_mean = np.mean(mvu_estimator)"
   ]
  },
  {
   "cell_type": "code",
   "execution_count": 21,
   "metadata": {},
   "outputs": [
    {
     "data": {
      "text/plain": [
       "5.008666666666666"
      ]
     },
     "execution_count": 21,
     "metadata": {},
     "output_type": "execute_result"
    }
   ],
   "source": [
    "sample_mean"
   ]
  },
  {
   "cell_type": "code",
   "execution_count": null,
   "metadata": {},
   "outputs": [],
   "source": []
  }
 ],
 "metadata": {
  "kernelspec": {
   "display_name": "Python 3",
   "language": "python",
   "name": "python3"
  },
  "language_info": {
   "codemirror_mode": {
    "name": "ipython",
    "version": 3
   },
   "file_extension": ".py",
   "mimetype": "text/x-python",
   "name": "python",
   "nbconvert_exporter": "python",
   "pygments_lexer": "ipython3",
   "version": "3.7.0"
  }
 },
 "nbformat": 4,
 "nbformat_minor": 2
}
