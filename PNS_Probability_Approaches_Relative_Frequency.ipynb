{
 "cells": [
  {
   "cell_type": "markdown",
   "metadata": {},
   "source": [
    "We are going to demonstrate that Probability is actually the limiting case of relative frequency when the sample approaches population."
   ]
  },
  {
   "cell_type": "code",
   "execution_count": 1,
   "metadata": {},
   "outputs": [],
   "source": [
    "import scipy.stats as S\n",
    "import numpy as np"
   ]
  },
  {
   "cell_type": "code",
   "execution_count": 2,
   "metadata": {},
   "outputs": [],
   "source": [
    "NumberofTosses = np.arange(100,10000,100)"
   ]
  },
  {
   "cell_type": "code",
   "execution_count": 3,
   "metadata": {},
   "outputs": [
    {
     "data": {
      "text/plain": [
       "array([ 100,  200,  300,  400,  500,  600,  700,  800,  900, 1000, 1100,\n",
       "       1200, 1300, 1400, 1500, 1600, 1700, 1800, 1900, 2000, 2100, 2200,\n",
       "       2300, 2400, 2500, 2600, 2700, 2800, 2900, 3000, 3100, 3200, 3300,\n",
       "       3400, 3500, 3600, 3700, 3800, 3900, 4000, 4100, 4200, 4300, 4400,\n",
       "       4500, 4600, 4700, 4800, 4900, 5000, 5100, 5200, 5300, 5400, 5500,\n",
       "       5600, 5700, 5800, 5900, 6000, 6100, 6200, 6300, 6400, 6500, 6600,\n",
       "       6700, 6800, 6900, 7000, 7100, 7200, 7300, 7400, 7500, 7600, 7700,\n",
       "       7800, 7900, 8000, 8100, 8200, 8300, 8400, 8500, 8600, 8700, 8800,\n",
       "       8900, 9000, 9100, 9200, 9300, 9400, 9500, 9600, 9700, 9800, 9900])"
      ]
     },
     "execution_count": 3,
     "metadata": {},
     "output_type": "execute_result"
    }
   ],
   "source": [
    "NumberofTosses"
   ]
  },
  {
   "cell_type": "code",
   "execution_count": 4,
   "metadata": {},
   "outputs": [],
   "source": [
    "Desiredoutcomesatvariablenumberoftosses = np.random.binomial(NumberofTosses,0.5)"
   ]
  },
  {
   "cell_type": "code",
   "execution_count": 5,
   "metadata": {},
   "outputs": [
    {
     "data": {
      "text/plain": [
       "array([  56,  104,  152,  183,  251,  309,  327,  404,  469,  507,  583,\n",
       "        606,  649,  690,  754,  821,  864,  894,  943, 1017, 1031, 1097,\n",
       "       1131, 1228, 1261, 1298, 1336, 1414, 1449, 1509, 1565, 1624, 1633,\n",
       "       1703, 1722, 1789, 1856, 1864, 1957, 1968, 2062, 2097, 2176, 2174,\n",
       "       2229, 2336, 2359, 2346, 2473, 2513, 2550, 2611, 2616, 2712, 2784,\n",
       "       2757, 2873, 2922, 2967, 3015, 2973, 3133, 3197, 3127, 3268, 3356,\n",
       "       3361, 3402, 3438, 3522, 3539, 3557, 3619, 3625, 3735, 3784, 3847,\n",
       "       3882, 3926, 4036, 4060, 4083, 4135, 4125, 4268, 4407, 4334, 4401,\n",
       "       4450, 4496, 4579, 4506, 4592, 4687, 4711, 4778, 4823, 4892, 4968])"
      ]
     },
     "execution_count": 5,
     "metadata": {},
     "output_type": "execute_result"
    }
   ],
   "source": [
    "Desiredoutcomesatvariablenumberoftosses"
   ]
  },
  {
   "cell_type": "code",
   "execution_count": 6,
   "metadata": {},
   "outputs": [],
   "source": [
    "RelativeFrequencies = Desiredoutcomesatvariablenumberoftosses/NumberofTosses"
   ]
  },
  {
   "cell_type": "code",
   "execution_count": 7,
   "metadata": {},
   "outputs": [
    {
     "data": {
      "text/plain": [
       "(99,)"
      ]
     },
     "execution_count": 7,
     "metadata": {},
     "output_type": "execute_result"
    }
   ],
   "source": [
    "RelativeFrequencies.shape"
   ]
  },
  {
   "cell_type": "code",
   "execution_count": 8,
   "metadata": {},
   "outputs": [],
   "source": [
    "import matplotlib.pyplot as plt"
   ]
  },
  {
   "cell_type": "code",
   "execution_count": 9,
   "metadata": {},
   "outputs": [
    {
     "data": {
      "text/plain": [
       "<StemContainer object of 3 artists>"
      ]
     },
     "execution_count": 9,
     "metadata": {},
     "output_type": "execute_result"
    },
    {
     "data": {
      "image/png": "[encoded data removed]",
      "text/plain": [
       "<Figure size 432x288 with 1 Axes>"
      ]
     },
     "metadata": {
      "needs_background": "light"
     },
     "output_type": "display_data"
    }
   ],
   "source": [
    "plt.stem(NumberofTosses,RelativeFrequencies)"
   ]
  },
  {
   "cell_type": "code",
   "execution_count": null,
   "metadata": {},
   "outputs": [],
   "source": []
  }
 ],
 "metadata": {
  "kernelspec": {
   "display_name": "Python 3",
   "language": "python",
   "name": "python3"
  },
  "language_info": {
   "codemirror_mode": {
    "name": "ipython",
    "version": 3
   },
   "file_extension": ".py",
   "mimetype": "text/x-python",
   "name": "python",
   "nbconvert_exporter": "python",
   "pygments_lexer": "ipython3",
   "version": "3.7.0"
  }
 },
 "nbformat": 4,
 "nbformat_minor": 2
}
