{
 "cells": [
  {
   "cell_type": "code",
   "execution_count": 44,
   "metadata": {},
   "outputs": [],
   "source": [
    "import numpy as np\n",
    "import scipy.stats as S\n",
    "import matplotlib.pyplot as plt"
   ]
  },
  {
   "cell_type": "markdown",
   "metadata": {},
   "source": [
    "The Probability Distribution Function (PDF) of Binomial Distribution is given by:\n",
    "\n",
    "\\begin{equation*}\n",
    "P(X=k) = {N \\choose k} p^k q^{(N-k)}\n",
    "\\end{equation*}\n",
    "\n",
    "Where, 'p' is the natural parameter of the Binomial PDF and it is the probability of getting the desired outcome (success) in single trial of Binomial Experiment, X is the Random Variable (Number of Desired Outcomes out of 'N' trials) and\n",
    "\n",
    "\\begin{equation*}\n",
    "q = 1-p\n",
    "\\end{equation*}\n",
    "\n",
    "In order to calculate the probability of getting 'k' desired outcomes (successes) out of 'N' trials of an experiment, we need the value of natural parameter, 'p' and the value of 'N'. \n",
    "\n",
    "In our example, we are going to take N = 7 and plot the Binomial Distribution for different values of natural parameter, 'p'. We are going to start with the natural parameter value of p = 0.5"
   ]
  },
  {
   "cell_type": "code",
   "execution_count": 45,
   "metadata": {},
   "outputs": [],
   "source": [
    "psuccess = 0.5\n",
    "N = 7\n",
    "qfailure = 1-psuccess"
   ]
  },
  {
   "cell_type": "markdown",
   "metadata": {},
   "source": [
    "In order to plot the Binomial Distribution for above selected values of 'p' (psuccess), 'q = (1-p)'(qfailure) and N=7, we need different values Random Variable(X) on x-axis from 0 to 7 (From no or 0 successes at all to 7 or all successes in N=7 trials) and on the y-axis, we need different values of probability of occurence of 0,1,2,3,4,5,6,7 successes out of N=7 trials, i.e. we need the values of P(X=0), P(X=1), P(X=2), P(X=3), P(X=4), P(X=5), P(X=6) and P(X=7) or we can say that value of Binomial PDF on different values of the Random Variable, X. \n",
    "\n",
    "For doing this, we are going to create two numpy arrays. One for storing different values of Random Variable, X and another for storing different values of Binomial PDF evaluated at different values of Random Variable, X. "
   ]
  },
  {
   "cell_type": "code",
   "execution_count": 46,
   "metadata": {},
   "outputs": [],
   "source": [
    "xvalues = np.arange(0,N+1)"
   ]
  },
  {
   "cell_type": "code",
   "execution_count": 47,
   "metadata": {},
   "outputs": [
    {
     "data": {
      "text/plain": [
       "array([0, 1, 2, 3, 4, 5, 6, 7])"
      ]
     },
     "execution_count": 47,
     "metadata": {},
     "output_type": "execute_result"
    }
   ],
   "source": [
    "xvalues\n",
    "#These are the values on x-axis of Binomial Probability Distribution "
   ]
  },
  {
   "cell_type": "code",
   "execution_count": 48,
   "metadata": {},
   "outputs": [],
   "source": [
    "binopdfvalues = S.binom.pmf(xvalues,N,psuccess)\n",
    "#The function S.binom.pmf is evaluating the value of Binomial Distribution Function\n",
    "#or Probability Mass Function(PMF), P(X=k) at different values,k = xvalues"
   ]
  },
  {
   "cell_type": "code",
   "execution_count": 49,
   "metadata": {},
   "outputs": [
    {
     "data": {
      "text/plain": [
       "array([0.0078125, 0.0546875, 0.1640625, 0.2734375, 0.2734375, 0.1640625,\n",
       "       0.0546875, 0.0078125])"
      ]
     },
     "execution_count": 49,
     "metadata": {},
     "output_type": "execute_result"
    }
   ],
   "source": [
    "binopdfvalues"
   ]
  },
  {
   "cell_type": "code",
   "execution_count": 50,
   "metadata": {},
   "outputs": [],
   "source": [
    "#P(X=0) = 0.0078125\n",
    "#P(X=1) = 0.0546875\n",
    "#P(X=2) = 0.1640625\n",
    "#P(X=3) = 0.2734375\n",
    "#P(X=4) = 0.2734375\n",
    "#P(X=5) = 0.1640625\n",
    "#P(X=6) = 0.0546875\n",
    "#P(X=7) = 0.0078125"
   ]
  },
  {
   "cell_type": "code",
   "execution_count": 51,
   "metadata": {},
   "outputs": [
    {
     "data": {
      "text/plain": [
       "<StemContainer object of 3 artists>"
      ]
     },
     "execution_count": 51,
     "metadata": {},
     "output_type": "execute_result"
    },
    {
     "data": {
      "image/png": "[encoded data removed]",
      "text/plain": [
       "<Figure size 432x288 with 1 Axes>"
      ]
     },
     "metadata": {
      "needs_background": "light"
     },
     "output_type": "display_data"
    }
   ],
   "source": [
    "plt.stem(xvalues,binopdfvalues)\n",
    "#The distribution is symmetric when p=q=0.5"
   ]
  },
  {
   "cell_type": "code",
   "execution_count": 52,
   "metadata": {},
   "outputs": [],
   "source": [
    "psuccess = 0.3\n",
    "qfailure = 1-psuccess"
   ]
  },
  {
   "cell_type": "code",
   "execution_count": 53,
   "metadata": {},
   "outputs": [],
   "source": [
    "binopdfvalues = S.binom.pmf(xvalues,N,psuccess)"
   ]
  },
  {
   "cell_type": "code",
   "execution_count": 54,
   "metadata": {},
   "outputs": [
    {
     "data": {
      "text/plain": [
       "array([8.235430e-02, 2.470629e-01, 3.176523e-01, 2.268945e-01,\n",
       "       9.724050e-02, 2.500470e-02, 3.572100e-03, 2.187000e-04])"
      ]
     },
     "execution_count": 54,
     "metadata": {},
     "output_type": "execute_result"
    }
   ],
   "source": [
    "binopdfvalues"
   ]
  },
  {
   "cell_type": "code",
   "execution_count": 55,
   "metadata": {},
   "outputs": [
    {
     "data": {
      "text/plain": [
       "<StemContainer object of 3 artists>"
      ]
     },
     "execution_count": 55,
     "metadata": {},
     "output_type": "execute_result"
    },
    {
     "data": {
      "image/png": "[encoded data removed]",
      "text/plain": [
       "<Figure size 432x288 with 1 Axes>"
      ]
     },
     "metadata": {
      "needs_background": "light"
     },
     "output_type": "display_data"
    }
   ],
   "source": [
    "plt.stem(xvalues,binopdfvalues)\n",
    "#The distribution is skewed to the left when p<q"
   ]
  },
  {
   "cell_type": "code",
   "execution_count": 56,
   "metadata": {},
   "outputs": [],
   "source": [
    "psuccess = 0.7\n",
    "qfailure = 1-psuccess"
   ]
  },
  {
   "cell_type": "code",
   "execution_count": 57,
   "metadata": {},
   "outputs": [],
   "source": [
    "binopdfvalues = S.binom.pmf(xvalues,N,psuccess)"
   ]
  },
  {
   "cell_type": "code",
   "execution_count": 58,
   "metadata": {},
   "outputs": [
    {
     "data": {
      "text/plain": [
       "array([2.187000e-04, 3.572100e-03, 2.500470e-02, 9.724050e-02,\n",
       "       2.268945e-01, 3.176523e-01, 2.470629e-01, 8.235430e-02])"
      ]
     },
     "execution_count": 58,
     "metadata": {},
     "output_type": "execute_result"
    }
   ],
   "source": [
    "binopdfvalues"
   ]
  },
  {
   "cell_type": "code",
   "execution_count": 60,
   "metadata": {},
   "outputs": [
    {
     "data": {
      "text/plain": [
       "<StemContainer object of 3 artists>"
      ]
     },
     "execution_count": 60,
     "metadata": {},
     "output_type": "execute_result"
    },
    {
     "data": {
      "image/png": "[encoded data removed]",
      "text/plain": [
       "<Figure size 432x288 with 1 Axes>"
      ]
     },
     "metadata": {
      "needs_background": "light"
     },
     "output_type": "display_data"
    }
   ],
   "source": [
    "plt.stem(xvalues,binopdfvalues)\n",
    "#The distribution is skewed to the right when p>q"
   ]
  },
  {
   "cell_type": "code",
   "execution_count": null,
   "metadata": {},
   "outputs": [],
   "source": []
  }
 ],
 "metadata": {
  "kernelspec": {
   "display_name": "Python 3",
   "language": "python",
   "name": "python3"
  },
  "language_info": {
   "codemirror_mode": {
    "name": "ipython",
    "version": 3
   },
   "file_extension": ".py",
   "mimetype": "text/x-python",
   "name": "python",
   "nbconvert_exporter": "python",
   "pygments_lexer": "ipython3",
   "version": "3.7.0"
  }
 },
 "nbformat": 4,
 "nbformat_minor": 2
}
